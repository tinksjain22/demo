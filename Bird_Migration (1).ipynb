{
  "cells": [
    {
      "cell_type": "code",
      "source": [
        "import pandas as pd\n",
        "import plotly.express as px\n",
        "\n",
        "# Load your Excel file (ensure you upload the file to Colab)\n",
        "df = pd.read_excel('/Bird_Migration_Data.xlsx')\n",
        "\n",
        "# Filter relevant columns\n",
        "df_filtered = df[['decimalLatitude', 'decimalLongitude', 'species', 'month']]\n",
        "\n",
        "# Remove rows with missing latitude or longitude values\n",
        "df_filtered = df_filtered.dropna(subset=['decimalLatitude', 'decimalLongitude'])\n",
        "df_filtered = df_filtered.sort_values(by='month')\n",
        "\n",
        "# Group by species and month to calculate mean latitudes and longitudes\n",
        "df_grouped = df_filtered.groupby(['species', 'month'], as_index=False).agg({\n",
        "    'decimalLatitude': 'mean',\n",
        "    'decimalLongitude': 'mean'\n",
        "})\n",
        "df_grouped['month'] = df_grouped['month'].astype(int)\n",
        "df_grouped = df_grouped.sort_values(by='month')\n",
        "\n",
        "# Determine direction of movement based on latitude difference\n",
        "df_grouped['direction'] = df_grouped.groupby('species')['decimalLatitude'].diff()\n",
        "\n",
        "# Assign colors based on direction (upward = green, downward = blue)\n",
        "df_grouped['color'] = df_grouped['direction'].apply(lambda x: 'green' if x > 0 else 'blue')\n",
        "\n",
        "# Create the plot\n",
        "fig = px.scatter_geo(\n",
        "    df_grouped,\n",
        "    lat='decimalLatitude',\n",
        "    lon='decimalLongitude',\n",
        "    color='color',  # Colors based on direction\n",
        "    color_discrete_map={'green': 'green', 'blue': 'blue'},\n",
        "    hover_name='species',\n",
        "    hover_data=['month', 'direction'],\n",
        "    animation_frame='month',\n",
        "    projection='natural earth',\n",
        "    title=\"Migration Patterns\",\n",
        "    template='plotly',\n",
        "    size_max=10,\n",
        "    opacity=0.8\n",
        ")\n",
        "\n",
        "fig.update_geos(\n",
        "    showcoastlines=True,\n",
        "    coastlinecolor=\"Black\",\n",
        "    showland=True,\n",
        "    landcolor=\"lightgray\",\n",
        "    showcountries=True,\n",
        "    countrycolor=\"darkgray\"\n",
        ")\n",
        "\n",
        "# Save the plot as an HTML file\n",
        "fig.write_html('/content/bird_migration_patterns.html')\n",
        "\n",
        "# Provide a download link\n",
        "from google.colab import files\n",
        "files.download('/content/bird_migration_patterns.html')\n"
      ],
      "metadata": {
        "colab": {
          "base_uri": "https://localhost:8080/",
          "height": 17
        },
        "id": "BmeHNIq9GX4O",
        "outputId": "8f14770b-604f-4567-ed47-6644760a9c9c"
      },
      "execution_count": 2,
      "outputs": [
        {
          "output_type": "display_data",
          "data": {
            "text/plain": [
              "<IPython.core.display.Javascript object>"
            ],
            "application/javascript": [
              "\n",
              "    async function download(id, filename, size) {\n",
              "      if (!google.colab.kernel.accessAllowed) {\n",
              "        return;\n",
              "      }\n",
              "      const div = document.createElement('div');\n",
              "      const label = document.createElement('label');\n",
              "      label.textContent = `Downloading \"${filename}\": `;\n",
              "      div.appendChild(label);\n",
              "      const progress = document.createElement('progress');\n",
              "      progress.max = size;\n",
              "      div.appendChild(progress);\n",
              "      document.body.appendChild(div);\n",
              "\n",
              "      const buffers = [];\n",
              "      let downloaded = 0;\n",
              "\n",
              "      const channel = await google.colab.kernel.comms.open(id);\n",
              "      // Send a message to notify the kernel that we're ready.\n",
              "      channel.send({})\n",
              "\n",
              "      for await (const message of channel.messages) {\n",
              "        // Send a message to notify the kernel that we're ready.\n",
              "        channel.send({})\n",
              "        if (message.buffers) {\n",
              "          for (const buffer of message.buffers) {\n",
              "            buffers.push(buffer);\n",
              "            downloaded += buffer.byteLength;\n",
              "            progress.value = downloaded;\n",
              "          }\n",
              "        }\n",
              "      }\n",
              "      const blob = new Blob(buffers, {type: 'application/binary'});\n",
              "      const a = document.createElement('a');\n",
              "      a.href = window.URL.createObjectURL(blob);\n",
              "      a.download = filename;\n",
              "      div.appendChild(a);\n",
              "      a.click();\n",
              "      div.remove();\n",
              "    }\n",
              "  "
            ]
          },
          "metadata": {}
        },
        {
          "output_type": "display_data",
          "data": {
            "text/plain": [
              "<IPython.core.display.Javascript object>"
            ],
            "application/javascript": [
              "download(\"download_55e66d69-341c-4e18-9daf-36c0c0d2ded7\", \"bird_migration_patterns.html\", 4660608)"
            ]
          },
          "metadata": {}
        }
      ]
    }
  ],
  "metadata": {
    "colab": {
      "provenance": []
    },
    "kernelspec": {
      "display_name": "Python 3",
      "name": "python3"
    },
    "language_info": {
      "name": "python"
    }
  },
  "nbformat": 4,
  "nbformat_minor": 0
}